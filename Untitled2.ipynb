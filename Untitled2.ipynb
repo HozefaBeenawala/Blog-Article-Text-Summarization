{
 "cells": [
  {
   "cell_type": "code",
   "execution_count": 18,
   "id": "a9e4cc78",
   "metadata": {},
   "outputs": [],
   "source": [
    "def Summary (link):\n",
    "    import requests\n",
    "    from bs4 import BeautifulSoup\n",
    "    r = requests.get(link)\n",
    "    soup = BeautifulSoup(r.content, 'html.parser')\n",
    "    s = soup.find('div', class_='article-content')\n",
    "    lines = s.find_all('p')\n",
    "        \n",
    "    file = open('Article.txt','w',encoding='utf-8')\n",
    "    soup_title = str(soup.title.text)\n",
    "    file.write(soup_title)\n",
    "    file.write(\"\\n\")\n",
    "    for line in lines:\n",
    "        soup_lines = str(line.text)\n",
    "        file.write(soup_lines)\n",
    "        file.write(\"\\n\")\n",
    "    file.flush()\n",
    "    file.close\n",
    "    \n",
    "    with open(\"Article.txt\", \"r\", encoding='utf-8' ) as file: \n",
    "        Article = file.read()\n",
    "        \n",
    "    # Load Packages\n",
    "    from sumy.parsers.plaintext import PlaintextParser\n",
    "    from sumy.nlp.tokenizers import Tokenizer\n",
    "    \n",
    "    # Creating text parser using tokenization\n",
    "    parser = PlaintextParser.from_string(Article,Tokenizer(\"english\"))\n",
    "    \n",
    "    from sumy.summarizers.text_rank import TextRankSummarizer\n",
    "    \n",
    "    # Summarize using sumy TextRank\n",
    "    summarizer = TextRankSummarizer()\n",
    "    summary_text =summarizer(parser.document,2)\n",
    "    \n",
    "    from sumy.summarizers.lex_rank import LexRankSummarizer\n",
    "    summarizer_lex = LexRankSummarizer()\n",
    "\n",
    "    # Summarize using sumy LexRank\n",
    "    summary_lex= summarizer_lex(parser.document, 2)\n",
    "    \n",
    "    from sumy.summarizers.lsa import LsaSummarizer\n",
    "    summarizer_lsa = LsaSummarizer()\n",
    "    \n",
    "    # Summarize using sumy LSA\n",
    "    summary_lsa =summarizer_lsa(parser.document,2)\n",
    "    \n",
    "    from sumy.summarizers.kl import KLSummarizer\n",
    "\n",
    "    summarizer_kl = KLSummarizer()\n",
    "\n",
    "    # Summarize using sumy KL Divergence\n",
    "    summary_kl =summarizer_kl(parser.document,2)\n",
    "\n",
    "    summary =  set(summary_kl).union(set(summary_lex)).union(set(summary_lsa)).union(set(summary_text))\n",
    "    text_summary=\"\"\n",
    "    for sentence in summary:\n",
    "        text_summary+=str(sentence)\n",
    "\n",
    "    return print(text_summary)\n",
    "    \n"
   ]
  },
  {
   "cell_type": "code",
   "execution_count": 19,
   "id": "8b98ab04",
   "metadata": {},
   "outputs": [
    {
     "name": "stdout",
     "output_type": "stream",
     "text": [
      "Musk and certain members of Tesla’s board are currently in court over the CEO’s $56 billion pay package after a Tesla shareholder accused Musk of being a “part-time CEO.” Drops in Tesla shares also followed massive stock sales by Musk who needed liquid cash to finance the $44 billion Twitter deal.Koguan has said Tesla can still invest in FSD, its Optimus bot and new gigafactories while also buying back “undervalued stocks.”Last week he tweeted that Musk should stop selling shares and should take advantage of the “right timing” to buy back shares “before Q4.” Musk responded to the tweet saying it was “up to the Tesla board.” In October, Koguan called on Tesla to buy back at least $5 billion worth of stock, and in the past has argued for up to $15 billion worth of buybacks, saying Tesla should use its free cashflow to fund the buyback.Finally, Tesla has gotten plenty of bad press this year around its advanced driver assistance systems Autopilot and “full self-driving,” or FSD, which have been tied to some fatal crashes in the worst case and in the best case have simply not performed as expected.In September, drivers filed suit against the company for falsely advertising the autonomous capabilities of its tech.Merz and other investors have also argued a stock buyback would be a show of confidence in Tesla’s future results and would return wealth to shareholders.\n"
     ]
    }
   ],
   "source": [
    "Summary('https://techcrunch.com/2022/11/23/what-it-would-mean-for-tesla-to-buy-back-shares/')"
   ]
  },
  {
   "cell_type": "code",
   "execution_count": 20,
   "id": "fc3ca276",
   "metadata": {},
   "outputs": [
    {
     "name": "stdout",
     "output_type": "stream",
     "text": [
      "CZ sent a number of shocks through the crypto ecosystem in recent weeks so Anita dived into: Subscribe to Chain Reaction on Apple Podcasts, Spotify or your favorite pod platform to keep up with the latest episodes, and please leave us a review if you like what you hear!Genesis continues to have constructive conversations with creditors.” Binance’s CZ on FTX: ‘We were the last straw that broke the camel’s back’ Binance co-founder and CEO Changpeng Zhao, also known as CZ, commented on the collapse of FTX at TechCrunch Sessions: Crypto 2022.This week, we’re taking a break from our Thursday news episode for Thanksgiving, but we had plenty of stories for you on the TechCrunch website, including some from our crypto event in Miami last week.But what we have here [ … ] is a different sort of animal.” NFT marketplace Magic Eden integrates with Polygon to grow blockchain gaming NFT marketplace Magic Eden is integrating with the Ethereum scaling layer-2 blockchain Polygon to dive deeper into the blockchain gaming and NFT ecosystems, the companies announced on Tuesday.It feels bittersweet to share that my time at TechCrunch has come to a close, and with it, my involvement with the Chain Reaction newsletter and podcast.“We have no plans to file bankruptcy imminently,” a Genesis spokesperson said in an emailed statement to TechCrunch on Monday.But, in Chain Reaction’s Tuesday episode we’re playing a super timely recording from Anita’s panel on stage last week with Binance founder and CEO Changpeng “CZ” Zhao.As for me, please feel free to connect on Twitter, where I’m sharing more about my professional next steps.\n"
     ]
    }
   ],
   "source": [
    "Summary('https://techcrunch.com/2022/11/24/can-ftxs-bankruptcy-bring-order-and-justice-to-its-users/')"
   ]
  },
  {
   "cell_type": "code",
   "execution_count": null,
   "id": "3517654a",
   "metadata": {},
   "outputs": [],
   "source": []
  }
 ],
 "metadata": {
  "kernelspec": {
   "display_name": "Python 3 (ipykernel)",
   "language": "python",
   "name": "python3"
  },
  "language_info": {
   "codemirror_mode": {
    "name": "ipython",
    "version": 3
   },
   "file_extension": ".py",
   "mimetype": "text/x-python",
   "name": "python",
   "nbconvert_exporter": "python",
   "pygments_lexer": "ipython3",
   "version": "3.9.9"
  }
 },
 "nbformat": 4,
 "nbformat_minor": 5
}
