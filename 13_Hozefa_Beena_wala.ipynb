{
 "cells": [
  {
   "cell_type": "markdown",
   "id": "8de2a0a4",
   "metadata": {},
   "source": [
    "# Text Summarization of Web Scraped TechCrunch Blog Article"
   ]
  },
  {
   "cell_type": "markdown",
   "id": "2e5cae28",
   "metadata": {},
   "source": [
    "* NAME - HOZEFA BEENA WALA\n",
    "* CLASS - MSc. in Data Science and Analytics\n",
    "* SEMESTER - III\n",
    "* SUBJECT - Natural Language Processing Assignment-2\n",
    "* ROLL No - DS5B-2113\n",
    "* SESSION - 2021-23"
   ]
  },
  {
   "cell_type": "markdown",
   "id": "ab99f057",
   "metadata": {},
   "source": [
    "## Web scraping of Blog Article "
   ]
  },
  {
   "cell_type": "markdown",
   "id": "df7577af",
   "metadata": {},
   "source": [
    "### Parsing the Webpage "
   ]
  },
  {
   "cell_type": "code",
   "execution_count": 2,
   "id": "cabeaee0",
   "metadata": {},
   "outputs": [
    {
     "name": "stdout",
     "output_type": "stream",
     "text": [
      "What it would mean for Tesla to buy back shares • TechCrunch\n",
      "Tesla investors are begging CEO Elon Musk and the board of Tesla to consider buying back shares as the company’s stock price slumps to a two-year low. Tesla stock was trading at $183.20 after hours on Wednesday, and its market capitalization has plunged by almost $700 billion since its peak a year ago.\n",
      "Musk said during Tesla’s Q3 earnings call that the company is likely to do a “meaningful buyback” next year, possibly between $5 billion and $10 billion. Last week, he said it would be “up to the Tesla board” to decide.\n",
      "Buying back shares from the marketplace would reduce the number of outstanding shares available, which increases the ownership stake of current shareholders. That’s because reduced supply of shares often causes a price increase. Tesla bull and influencer Alexandra Merz recently put up a petition on Change.org to advocate for a swift buyback before the end of the year. Merz said this would allow Tesla to “benefit from a currently very unvalued stock price” and avoid the 1% excuse tax that any buybacks exceeding $1 million will be subject to by January 1, 2023.\n",
      "Merz and other investors have also argued a stock buyback would be a show of confidence in Tesla’s future results and would return wealth to shareholders.\n",
      "“I’m a huge Tesla fan and past stock holder but in order to preserve my capital I’ve been forced to go to the dark side,” commented one petitioner, of which there are currently 5,807. “I’ve recently began to short the stock and have earned back roughly half my loses. I believe in Tesla’s long term growth but I need to see some action from the board before going long again. A nice buy back would show confidence from the board that Tesla is still a good investment.”\n",
      "Tesla’s stock has taken a hit lately for a variety of reasons, including decreasing investor confidence in Musk to run the company effectively. Many have complained that Musk is, at best, distracted by his recent purchase and takeover of Twitter, a social media platform on which the executive has lately been airing his politics even more than usual. Musk and certain members of Tesla’s board are currently in court over the CEO’s $56 billion pay package after a Tesla shareholder accused Musk of being a “part-time CEO.”\n",
      "Drops in Tesla shares also followed massive stock sales by Musk who needed liquid cash to finance the $44 billion Twitter deal.\n",
      "Some analysts, like Adam Jones at Morgan Stanley, worry the Twitter fiasco and Musk’s rampant tweeting could hurt consumer demand for Tesla, as well as commercial deals and government relations.\n",
      "Musk’s involvement in Twitter isn’t the only reason for plunging shares. While Tesla still remains the market leader of electric vehicles in the U.S., the company is rapidly losing market share to other automakers as new models come online. In the third quarter, Tesla held 64% market share in EVs, which is down from 66% in Q2 and 75% in Q1. Ford, GM and Hyundai brands are quickly catching up as they scale production of popular EV models like the Mustang Mach-E, the Chevy Bolt and the Ioniq 5.\n",
      "Tesla is also losing ground to Chinese EV makers like BYD and Wuling Motors in China, where the automaker recently slashed prices to lure buyers, receiving reportedly lackluster enthusiasm. On top of that, Beijing is now on lockdown and more restrictions have been imposed in China as coronavirus cases surge. This might not only affect Tesla’s ability to run its gigafactory in Shanghai, but further restrictions will affect China’s weakened economy further and reduce demand for luxury products like Teslas.\n",
      "Then there are the back-to-back recalls that Tesla issued over the weekend — over 350,000 vehicles from U.S. customers with software glitches that disable tail lights or activate air bags during minor collisions in some cars. That’s on top of the 17 other recalls this year.\n",
      "Finally, Tesla has gotten plenty of bad press this year around its advanced driver assistance systems Autopilot and “full self-driving,” or FSD, which have been tied to some fatal crashes in the worst case and in the best case have simply not performed as expected. In September, drivers filed suit against the company for falsely advertising the autonomous capabilities of its tech.\n",
      "All of the above, coupled with a down market, have resulted in Tesla’s market cap going from $1.2 trillion last November to $574 billion as of Wednesday’s close.\n",
      "Billionaire Leo Koguan, who says he’s the third largest individual shareholder in Tesla, has been advocating for a buyback for months. Last week he tweeted that Musk should stop selling shares and should take advantage of the “right timing” to buy back shares “before Q4.” Musk responded to the tweet saying it was “up to the Tesla board.”\n",
      "In October, Koguan called on Tesla to buy back at least $5 billion worth of stock, and in the past has argued for up to $15 billion worth of buybacks, saying Tesla should use its free cashflow to fund the buyback.\n",
      "As of the third quarter, Tesla has a free cash flow of $3.3 billion.\n",
      "Koguan has said Tesla can still invest in FSD, its Optimus bot and new gigafactories while also buying back “undervalued stocks.”\n"
     ]
    }
   ],
   "source": [
    "import requests\n",
    "from bs4 import BeautifulSoup\n",
    "import warnings\n",
    "warnings.filterwarnings(action='ignore')\n",
    "\n",
    "r = requests.get('https://techcrunch.com/2022/11/23/what-it-would-mean-for-tesla-to-buy-back-shares/')\n",
    "soup = BeautifulSoup(r.content, 'html.parser')\n",
    "s = soup.find('div', class_='article-content')\n",
    "print(soup.title.text)\n",
    "lines = s.find_all('p')\n",
    "for line in lines:\n",
    "    print(line.text)"
   ]
  },
  {
   "cell_type": "markdown",
   "id": "13ca4f2a",
   "metadata": {},
   "source": [
    "### Saving Article into Text File"
   ]
  },
  {
   "cell_type": "code",
   "execution_count": 3,
   "id": "cd525d84",
   "metadata": {},
   "outputs": [
    {
     "name": "stdout",
     "output_type": "stream",
     "text": [
      "What it would mean for Tesla to buy back shares • TechCrunch\n",
      "Tesla investors are begging CEO Elon Musk and the board of Tesla to consider buying back shares as the company’s stock price slumps to a two-year low. Tesla stock was trading at $183.20 after hours on Wednesday, and its market capitalization has plunged by almost $700 billion since its peak a year ago.\n",
      "Musk said during Tesla’s Q3 earnings call that the company is likely to do a “meaningful buyback” next year, possibly between $5 billion and $10 billion. Last week, he said it would be “up to the Tesla board” to decide.\n",
      "Buying back shares from the marketplace would reduce the number of outstanding shares available, which increases the ownership stake of current shareholders. That’s because reduced supply of shares often causes a price increase. Tesla bull and influencer Alexandra Merz recently put up a petition on Change.org to advocate for a swift buyback before the end of the year. Merz said this would allow Tesla to “benefit from a currently very unvalued stock price” and avoid the 1% excuse tax that any buybacks exceeding $1 million will be subject to by January 1, 2023.\n",
      "Merz and other investors have also argued a stock buyback would be a show of confidence in Tesla’s future results and would return wealth to shareholders.\n",
      "“I’m a huge Tesla fan and past stock holder but in order to preserve my capital I’ve been forced to go to the dark side,” commented one petitioner, of which there are currently 5,807. “I’ve recently began to short the stock and have earned back roughly half my loses. I believe in Tesla’s long term growth but I need to see some action from the board before going long again. A nice buy back would show confidence from the board that Tesla is still a good investment.”\n",
      "Tesla’s stock has taken a hit lately for a variety of reasons, including decreasing investor confidence in Musk to run the company effectively. Many have complained that Musk is, at best, distracted by his recent purchase and takeover of Twitter, a social media platform on which the executive has lately been airing his politics even more than usual. Musk and certain members of Tesla’s board are currently in court over the CEO’s $56 billion pay package after a Tesla shareholder accused Musk of being a “part-time CEO.”\n",
      "Drops in Tesla shares also followed massive stock sales by Musk who needed liquid cash to finance the $44 billion Twitter deal.\n",
      "Some analysts, like Adam Jones at Morgan Stanley, worry the Twitter fiasco and Musk’s rampant tweeting could hurt consumer demand for Tesla, as well as commercial deals and government relations.\n",
      "Musk’s involvement in Twitter isn’t the only reason for plunging shares. While Tesla still remains the market leader of electric vehicles in the U.S., the company is rapidly losing market share to other automakers as new models come online. In the third quarter, Tesla held 64% market share in EVs, which is down from 66% in Q2 and 75% in Q1. Ford, GM and Hyundai brands are quickly catching up as they scale production of popular EV models like the Mustang Mach-E, the Chevy Bolt and the Ioniq 5.\n",
      "Tesla is also losing ground to Chinese EV makers like BYD and Wuling Motors in China, where the automaker recently slashed prices to lure buyers, receiving reportedly lackluster enthusiasm. On top of that, Beijing is now on lockdown and more restrictions have been imposed in China as coronavirus cases surge. This might not only affect Tesla’s ability to run its gigafactory in Shanghai, but further restrictions will affect China’s weakened economy further and reduce demand for luxury products like Teslas.\n",
      "Then there are the back-to-back recalls that Tesla issued over the weekend — over 350,000 vehicles from U.S. customers with software glitches that disable tail lights or activate air bags during minor collisions in some cars. That’s on top of the 17 other recalls this year.\n",
      "Finally, Tesla has gotten plenty of bad press this year around its advanced driver assistance systems Autopilot and “full self-driving,” or FSD, which have been tied to some fatal crashes in the worst case and in the best case have simply not performed as expected. In September, drivers filed suit against the company for falsely advertising the autonomous capabilities of its tech.\n",
      "All of the above, coupled with a down market, have resulted in Tesla’s market cap going from $1.2 trillion last November to $574 billion as of Wednesday’s close.\n",
      "Billionaire Leo Koguan, who says he’s the third largest individual shareholder in Tesla, has been advocating for a buyback for months. Last week he tweeted that Musk should stop selling shares and should take advantage of the “right timing” to buy back shares “before Q4.” Musk responded to the tweet saying it was “up to the Tesla board.”\n",
      "In October, Koguan called on Tesla to buy back at least $5 billion worth of stock, and in the past has argued for up to $15 billion worth of buybacks, saying Tesla should use its free cashflow to fund the buyback.\n",
      "As of the third quarter, Tesla has a free cash flow of $3.3 billion.\n",
      "Koguan has said Tesla can still invest in FSD, its Optimus bot and new gigafactories while also buying back “undervalued stocks.”\n"
     ]
    },
    {
     "data": {
      "text/plain": [
       "<function TextIOWrapper.close()>"
      ]
     },
     "execution_count": 3,
     "metadata": {},
     "output_type": "execute_result"
    }
   ],
   "source": [
    "file = open('Article.txt','w',encoding='utf-8')\n",
    "soup_title = str(soup.title.text)\n",
    "print(soup_title)\n",
    "file.write(soup_title)\n",
    "file.write(\"\\n\")\n",
    "for line in lines:\n",
    "    soup_lines = str(line.text)\n",
    "    print(soup_lines)\n",
    "    file.write(soup_lines)\n",
    "    file.write(\"\\n\")\n",
    "file.flush()\n",
    "file.close"
   ]
  },
  {
   "cell_type": "markdown",
   "id": "12db00d0",
   "metadata": {},
   "source": [
    "### Reading the text file "
   ]
  },
  {
   "cell_type": "code",
   "execution_count": 4,
   "id": "6abcd431",
   "metadata": {},
   "outputs": [
    {
     "name": "stdout",
     "output_type": "stream",
     "text": [
      "What it would mean for Tesla to buy back shares • TechCrunch\n",
      "Tesla investors are begging CEO Elon Musk and the board of Tesla to consider buying back shares as the company’s stock price slumps to a two-year low. Tesla stock was trading at $183.20 after hours on Wednesday, and its market capitalization has plunged by almost $700 billion since its peak a year ago.\n",
      "Musk said during Tesla’s Q3 earnings call that the company is likely to do a “meaningful buyback” next year, possibly between $5 billion and $10 billion. Last week, he said it would be “up to the Tesla board” to decide.\n",
      "Buying back shares from the marketplace would reduce the number of outstanding shares available, which increases the ownership stake of current shareholders. That’s because reduced supply of shares often causes a price increase. Tesla bull and influencer Alexandra Merz recently put up a petition on Change.org to advocate for a swift buyback before the end of the year. Merz said this would allow Tesla to “benefit from a currently very unvalued stock price” and avoid the 1% excuse tax that any buybacks exceeding $1 million will be subject to by January 1, 2023.\n",
      "Merz and other investors have also argued a stock buyback would be a show of confidence in Tesla’s future results and would return wealth to shareholders.\n",
      "“I’m a huge Tesla fan and past stock holder but in order to preserve my capital I’ve been forced to go to the dark side,” commented one petitioner, of which there are currently 5,807. “I’ve recently began to short the stock and have earned back roughly half my loses. I believe in Tesla’s long term growth but I need to see some action from the board before going long again. A nice buy back would show confidence from the board that Tesla is still a good investment.”\n",
      "Tesla’s stock has taken a hit lately for a variety of reasons, including decreasing investor confidence in Musk to run the company effectively. Many have complained that Musk is, at best, distracted by his recent purchase and takeover of Twitter, a social media platform on which the executive has lately been airing his politics even more than usual. Musk and certain members of Tesla’s board are currently in court over the CEO’s $56 billion pay package after a Tesla shareholder accused Musk of being a “part-time CEO.”\n",
      "Drops in Tesla shares also followed massive stock sales by Musk who needed liquid cash to finance the $44 billion Twitter deal.\n",
      "Some analysts, like Adam Jones at Morgan Stanley, worry the Twitter fiasco and Musk’s rampant tweeting could hurt consumer demand for Tesla, as well as commercial deals and government relations.\n",
      "Musk’s involvement in Twitter isn’t the only reason for plunging shares. While Tesla still remains the market leader of electric vehicles in the U.S., the company is rapidly losing market share to other automakers as new models come online. In the third quarter, Tesla held 64% market share in EVs, which is down from 66% in Q2 and 75% in Q1. Ford, GM and Hyundai brands are quickly catching up as they scale production of popular EV models like the Mustang Mach-E, the Chevy Bolt and the Ioniq 5.\n",
      "Tesla is also losing ground to Chinese EV makers like BYD and Wuling Motors in China, where the automaker recently slashed prices to lure buyers, receiving reportedly lackluster enthusiasm. On top of that, Beijing is now on lockdown and more restrictions have been imposed in China as coronavirus cases surge. This might not only affect Tesla’s ability to run its gigafactory in Shanghai, but further restrictions will affect China’s weakened economy further and reduce demand for luxury products like Teslas.\n",
      "Then there are the back-to-back recalls that Tesla issued over the weekend — over 350,000 vehicles from U.S. customers with software glitches that disable tail lights or activate air bags during minor collisions in some cars. That’s on top of the 17 other recalls this year.\n",
      "Finally, Tesla has gotten plenty of bad press this year around its advanced driver assistance systems Autopilot and “full self-driving,” or FSD, which have been tied to some fatal crashes in the worst case and in the best case have simply not performed as expected. In September, drivers filed suit against the company for falsely advertising the autonomous capabilities of its tech.\n",
      "All of the above, coupled with a down market, have resulted in Tesla’s market cap going from $1.2 trillion last November to $574 billion as of Wednesday’s close.\n",
      "Billionaire Leo Koguan, who says he’s the third largest individual shareholder in Tesla, has been advocating for a buyback for months. Last week he tweeted that Musk should stop selling shares and should take advantage of the “right timing” to buy back shares “before Q4.” Musk responded to the tweet saying it was “up to the Tesla board.”\n",
      "In October, Koguan called on Tesla to buy back at least $5 billion worth of stock, and in the past has argued for up to $15 billion worth of buybacks, saying Tesla should use its free cashflow to fund the buyback.\n",
      "As of the third quarter, Tesla has a free cash flow of $3.3 billion.\n",
      "Koguan has said Tesla can still invest in FSD, its Optimus bot and new gigafactories while also buying back “undervalued stocks.”\n",
      "\n"
     ]
    }
   ],
   "source": [
    "with open(\"Article.txt\", \"r\", encoding='utf-8' ) as file: \n",
    "    Article = file.read()\n",
    "    print(Article)"
   ]
  },
  {
   "cell_type": "markdown",
   "id": "f1f74965",
   "metadata": {},
   "source": [
    "## Summarization using different algorithms in sumy package"
   ]
  },
  {
   "cell_type": "markdown",
   "id": "db0f0dc0",
   "metadata": {},
   "source": [
    "### Using Text Rank Summarizer"
   ]
  },
  {
   "cell_type": "code",
   "execution_count": 5,
   "id": "781a845d",
   "metadata": {},
   "outputs": [
    {
     "name": "stdout",
     "output_type": "stream",
     "text": [
      "Musk and certain members of Tesla’s board are currently in court over the CEO’s $56 billion pay package after a Tesla shareholder accused Musk of being a “part-time CEO.” Drops in Tesla shares also followed massive stock sales by Musk who needed liquid cash to finance the $44 billion Twitter deal.Last week he tweeted that Musk should stop selling shares and should take advantage of the “right timing” to buy back shares “before Q4.” Musk responded to the tweet saying it was “up to the Tesla board.” In October, Koguan called on Tesla to buy back at least $5 billion worth of stock, and in the past has argued for up to $15 billion worth of buybacks, saying Tesla should use its free cashflow to fund the buyback.\n"
     ]
    }
   ],
   "source": [
    "# Load Packages\n",
    "from sumy.parsers.plaintext import PlaintextParser\n",
    "from sumy.nlp.tokenizers import Tokenizer\n",
    "\n",
    "# Creating text parser using tokenization\n",
    "parser = PlaintextParser.from_string(Article,Tokenizer(\"english\"))\n",
    "\n",
    "from sumy.summarizers.text_rank import TextRankSummarizer\n",
    "\n",
    "# Summarize using sumy TextRank\n",
    "summarizer = TextRankSummarizer()\n",
    "summary_text =summarizer(parser.document,2)\n",
    "\n",
    "text_summary=\"\"\n",
    "for sentence in summary_text:\n",
    "    text_summary+=str(sentence)\n",
    "print(text_summary)"
   ]
  },
  {
   "cell_type": "markdown",
   "id": "d988c53f",
   "metadata": {},
   "source": [
    "### Using Lex Rank Summarizer"
   ]
  },
  {
   "cell_type": "code",
   "execution_count": 6,
   "id": "fb210433",
   "metadata": {},
   "outputs": [
    {
     "name": "stdout",
     "output_type": "stream",
     "text": [
      "Merz and other investors have also argued a stock buyback would be a show of confidence in Tesla’s future results and would return wealth to shareholders.Musk and certain members of Tesla’s board are currently in court over the CEO’s $56 billion pay package after a Tesla shareholder accused Musk of being a “part-time CEO.” Drops in Tesla shares also followed massive stock sales by Musk who needed liquid cash to finance the $44 billion Twitter deal.\n"
     ]
    }
   ],
   "source": [
    "from sumy.summarizers.lex_rank import LexRankSummarizer\n",
    "summarizer_lex = LexRankSummarizer()\n",
    "\n",
    "# Summarize using sumy LexRank\n",
    "summary_lex= summarizer_lex(parser.document, 2)\n",
    "lex_summary=\"\"\n",
    "\n",
    "for sentence in summary_lex:\n",
    "    lex_summary+=str(sentence)  \n",
    "print(lex_summary)"
   ]
  },
  {
   "cell_type": "markdown",
   "id": "840fb4fb",
   "metadata": {},
   "source": [
    "### Using LSA Summarizer "
   ]
  },
  {
   "cell_type": "code",
   "execution_count": 7,
   "id": "25fd8f99",
   "metadata": {},
   "outputs": [
    {
     "name": "stdout",
     "output_type": "stream",
     "text": [
      "Finally, Tesla has gotten plenty of bad press this year around its advanced driver assistance systems Autopilot and “full self-driving,” or FSD, which have been tied to some fatal crashes in the worst case and in the best case have simply not performed as expected.Koguan has said Tesla can still invest in FSD, its Optimus bot and new gigafactories while also buying back “undervalued stocks.”\n"
     ]
    }
   ],
   "source": [
    "from sumy.summarizers.lsa import LsaSummarizer\n",
    "summarizer_lsa = LsaSummarizer()\n",
    "\n",
    "# Summarize using sumy LSA\n",
    "summary_lsa =summarizer_lsa(parser.document,2)\n",
    "\n",
    "lsa_summary=\"\"\n",
    "for sentence in summary_lsa:\n",
    "    lsa_summary+=str(sentence)\n",
    "\n",
    "print(lsa_summary)"
   ]
  },
  {
   "cell_type": "markdown",
   "id": "29e0bb5d",
   "metadata": {},
   "source": [
    "### Using KL Summarizer "
   ]
  },
  {
   "cell_type": "code",
   "execution_count": 8,
   "id": "6971171f",
   "metadata": {},
   "outputs": [
    {
     "name": "stdout",
     "output_type": "stream",
     "text": [
      "In September, drivers filed suit against the company for falsely advertising the autonomous capabilities of its tech.Last week he tweeted that Musk should stop selling shares and should take advantage of the “right timing” to buy back shares “before Q4.” Musk responded to the tweet saying it was “up to the Tesla board.” In October, Koguan called on Tesla to buy back at least $5 billion worth of stock, and in the past has argued for up to $15 billion worth of buybacks, saying Tesla should use its free cashflow to fund the buyback.\n"
     ]
    }
   ],
   "source": [
    "from sumy.summarizers.kl import KLSummarizer\n",
    "\n",
    "summarizer_kl = KLSummarizer()\n",
    "\n",
    "# Summarize using sumy KL Divergence\n",
    "summary_kl =summarizer_kl(parser.document,2)\n",
    "\n",
    "kl_summary=\"\"\n",
    "for sentence in summary_kl:\n",
    "    kl_summary+=str(sentence)  \n",
    "print(kl_summary)"
   ]
  },
  {
   "cell_type": "markdown",
   "id": "32d9c050",
   "metadata": {},
   "source": [
    "### Using Hybrid Summarizer (Union of all the above Summarizers) "
   ]
  },
  {
   "cell_type": "code",
   "execution_count": 9,
   "id": "f8acda36",
   "metadata": {},
   "outputs": [
    {
     "name": "stdout",
     "output_type": "stream",
     "text": [
      "Last week he tweeted that Musk should stop selling shares and should take advantage of the “right timing” to buy back shares “before Q4.” Musk responded to the tweet saying it was “up to the Tesla board.” In October, Koguan called on Tesla to buy back at least $5 billion worth of stock, and in the past has argued for up to $15 billion worth of buybacks, saying Tesla should use its free cashflow to fund the buyback.Koguan has said Tesla can still invest in FSD, its Optimus bot and new gigafactories while also buying back “undervalued stocks.”Musk and certain members of Tesla’s board are currently in court over the CEO’s $56 billion pay package after a Tesla shareholder accused Musk of being a “part-time CEO.” Drops in Tesla shares also followed massive stock sales by Musk who needed liquid cash to finance the $44 billion Twitter deal.In September, drivers filed suit against the company for falsely advertising the autonomous capabilities of its tech.Merz and other investors have also argued a stock buyback would be a show of confidence in Tesla’s future results and would return wealth to shareholders.Finally, Tesla has gotten plenty of bad press this year around its advanced driver assistance systems Autopilot and “full self-driving,” or FSD, which have been tied to some fatal crashes in the worst case and in the best case have simply not performed as expected.\n"
     ]
    }
   ],
   "source": [
    "summary =  set(summary_kl).union(set(summary_lex)).union(set(summary_lsa)).union(set(summary_text))\n",
    "text_summary=\"\"\n",
    "for sentence in summary:\n",
    "    text_summary+=str(sentence)\n",
    "\n",
    "print(text_summary)"
   ]
  },
  {
   "cell_type": "markdown",
   "id": "36cb0747",
   "metadata": {},
   "source": [
    "## Optimized method (for reusability)"
   ]
  },
  {
   "cell_type": "markdown",
   "id": "f75917c2",
   "metadata": {},
   "source": [
    "### Function which return the summary using hybrid summarization by calling a link"
   ]
  },
  {
   "cell_type": "code",
   "execution_count": 10,
   "id": "c90c06b3",
   "metadata": {},
   "outputs": [],
   "source": [
    "def Summary (link):\n",
    "    \n",
    "    # Webscraping of TechCrunch Blog Article\n",
    "    import requests\n",
    "    from bs4 import BeautifulSoup\n",
    "    r = requests.get(link)\n",
    "    soup = BeautifulSoup(r.content, 'html.parser')\n",
    "    s = soup.find('div', class_='article-content')\n",
    "    lines = s.find_all('p')\n",
    "    \n",
    "    # Saving Scraped Article into Text File    \n",
    "    file = open('Article.txt','w',encoding='utf-8')\n",
    "    soup_title = str(soup.title.text)\n",
    "    file.write(soup_title)\n",
    "    file.write(\"\\n\")\n",
    "    for line in lines:\n",
    "        soup_lines = str(line.text)\n",
    "        file.write(soup_lines)\n",
    "        file.write(\"\\n\")\n",
    "    file.flush()\n",
    "    file.close\n",
    "    \n",
    "    # Reading the Text File\n",
    "    with open(\"Article.txt\", \"r\", encoding='utf-8' ) as file: \n",
    "        Article = file.read()\n",
    "        \n",
    "    # Importing all the necessary packages for Text Summarization\n",
    "    from sumy.parsers.plaintext import PlaintextParser\n",
    "    from sumy.nlp.tokenizers import Tokenizer\n",
    "    from sumy.summarizers.text_rank import TextRankSummarizer\n",
    "    from sumy.summarizers.lex_rank import LexRankSummarizer\n",
    "    from sumy.summarizers.lsa import LsaSummarizer\n",
    "    from sumy.summarizers.kl import KLSummarizer\n",
    "    # Creating text parser using tokenization\n",
    "    parser = PlaintextParser.from_string(Article,Tokenizer(\"english\"))\n",
    "    # Summarize using sumy TextRank\n",
    "    summarizer = TextRankSummarizer()\n",
    "    summary_text =summarizer(parser.document,2)\n",
    "    # Summarize using sumy LexRank\n",
    "    summarizer_lex = LexRankSummarizer()\n",
    "    summary_lex= summarizer_lex(parser.document, 2)\n",
    "    # Summarize using sumy LSA\n",
    "    summarizer_lsa = LsaSummarizer()\n",
    "    summary_lsa =summarizer_lsa(parser.document,2)\n",
    "    # Summarize using sumy KL Divergence\n",
    "    summarizer_kl = KLSummarizer()\n",
    "    summary_kl =summarizer_kl(parser.document,2)\n",
    "    # Hybrid Summary\n",
    "    summary =  set(summary_kl).union(set(summary_lex)).union(set(summary_lsa)).union(set(summary_text))\n",
    "    text_summary=\"\"\n",
    "    for sentence in summary:\n",
    "        text_summary+=str(sentence)\n",
    "\n",
    "    return text_summary\n",
    "    "
   ]
  },
  {
   "cell_type": "markdown",
   "id": "1b964059",
   "metadata": {},
   "source": [
    "### Scraping all the links which is present in a webpage  "
   ]
  },
  {
   "cell_type": "code",
   "execution_count": 11,
   "id": "14354e84",
   "metadata": {},
   "outputs": [
    {
     "name": "stdout",
     "output_type": "stream",
     "text": [
      "https://techcrunch.com/2022/11/25/elon-musk-says-twitters-new-multicoloured-verification-will-launch-next-week/\n",
      "https://techcrunch.com/author/ivan-mehta/\n",
      "https://techcrunch.com/2022/11/25/elon-musk-says-twitters-new-multicoloured-verification-will-launch-next-week/\n",
      "https://techcrunch.com/2022/11/24/automating-the-income-gap/\n",
      "https://techcrunch.com/author/brian-heater/\n",
      "/\n",
      "https://techcrunch.com/2022/11/24/3-views-heres-what-our-2022-startup-theses-got-wrong/\n",
      "https://techcrunch.com/author/natasha-mascarenhas/\n",
      "https://techcrunch.com/author/\n",
      "https://techcrunch.com/author/anna-heim/\n",
      "https://techcrunch.com/2022/11/24/elon-musk-twitter-layoffs-eu-dsa-vlop-warning/\n",
      "https://techcrunch.com/author/natasha-lomas/\n",
      "https://techcrunch.com/2022/11/24/wework-chinas-former-tech-head-launches-on-demand-work-pods/\n",
      "https://techcrunch.com/author/rita-liao/\n",
      "https://techcrunch.com/2022/11/25/how-to-run-data-on-kubernetes-6-starting-principles/\n",
      "https://techcrunch.com/author/\n",
      "https://techcrunch.com/2022/11/25/how-to-run-data-on-kubernetes-6-starting-principles/\n",
      "https://techcrunch.com/2022/11/25/thanksgiving-online-sales-figures/\n",
      "https://techcrunch.com/author/ingrid-lunden/\n",
      "https://techcrunch.com/2022/11/25/thanksgiving-online-sales-figures/\n",
      "https://techcrunch.com/2022/11/25/proton-mail-will-soon-be-more-like-gmail-with-email-categorization-message-scheduling-and-more/\n",
      "https://techcrunch.com/author/paul-sawers/\n",
      "https://techcrunch.com/2022/11/25/proton-mail-will-soon-be-more-like-gmail-with-email-categorization-message-scheduling-and-more/\n",
      "https://techcrunch.com/2022/11/25/deepfake-porn-revenge-porn-uk-law-change/\n",
      "https://techcrunch.com/author/natasha-lomas/\n",
      "https://techcrunch.com/2022/11/25/deepfake-porn-revenge-porn-uk-law-change/\n",
      "https://techcrunch.com/2022/11/25/elon-musk-says-twitters-new-multicoloured-verification-will-launch-next-week/\n",
      "https://techcrunch.com/author/ivan-mehta/\n",
      "https://techcrunch.com/2022/11/25/elon-musk-says-twitters-new-multicoloured-verification-will-launch-next-week/\n",
      "https://techcrunch.com/2022/11/25/a-new-wave-of-solo-gp-vcs-is-coming-to-europe-and-hypernova-hopes-to-power-it/\n",
      "https://techcrunch.com/author/mike-butcher/\n",
      "https://techcrunch.com/2022/11/25/a-new-wave-of-solo-gp-vcs-is-coming-to-europe-and-hypernova-hopes-to-power-it/\n",
      "https://techcrunch.com/2022/11/25/revio-allows-african-businesses-to-connect-to-multiple-payment-methods-and-reduce-payment-failures/\n",
      "https://techcrunch.com/author/tage-kene-okafor/\n",
      "https://techcrunch.com/2022/11/25/revio-allows-african-businesses-to-connect-to-multiple-payment-methods-and-reduce-payment-failures/\n",
      "https://techcrunch.com/2022/11/24/wework-chinas-former-tech-head-launches-on-demand-work-pods/\n",
      "https://techcrunch.com/author/rita-liao/\n",
      "https://techcrunch.com/2022/11/24/wework-chinas-former-tech-head-launches-on-demand-work-pods/\n",
      "https://techcrunch.com/2022/11/24/musk-says-twitter-will-offer-amnesty-to-suspended-accounts/\n",
      "https://techcrunch.com/author/rebecca-bellan/\n",
      "https://techcrunch.com/2022/11/24/musk-says-twitter-will-offer-amnesty-to-suspended-accounts/\n",
      "https://techcrunch.com/2022/11/24/elon-musk-twitter-layoffs-eu-dsa-vlop-warning/\n",
      "https://techcrunch.com/author/natasha-lomas/\n",
      "https://techcrunch.com/2022/11/24/elon-musk-twitter-layoffs-eu-dsa-vlop-warning/\n",
      "https://techcrunch.com/2022/11/24/stellantis-to-restructure-european-dealer-network-in-july-2023/\n",
      "https://techcrunch.com/author/rebecca-bellan/\n",
      "https://techcrunch.com/2022/11/24/stellantis-to-restructure-european-dealer-network-in-july-2023/\n",
      "https://techcrunch.com/2022/11/24/bessemer-playground-root-and-seraphim-vcs-will-judge-the-tc-sessions-space-pitch-off/\n",
      "https://techcrunch.com/author/lauren-simonds-2/\n",
      "https://techcrunch.com/2022/11/24/bessemer-playground-root-and-seraphim-vcs-will-judge-the-tc-sessions-space-pitch-off/\n",
      "https://techcrunch.com/2022/11/24/can-ftxs-bankruptcy-bring-order-and-justice-to-its-users/\n",
      "https://techcrunch.com/author/jacquelyn-melinek/\n",
      "https://techcrunch.com/2022/11/24/can-ftxs-bankruptcy-bring-order-and-justice-to-its-users/\n",
      "https://techcrunch.com/2022/11/24/automating-the-income-gap/\n",
      "https://techcrunch.com/author/brian-heater/\n",
      "https://techcrunch.com/2022/11/24/automating-the-income-gap/\n",
      "https://techcrunch.com/2022/11/24/india-aiims-outages-cyberattack/\n",
      "https://techcrunch.com/author/jagmeet-singh/\n",
      "https://techcrunch.com/2022/11/24/india-aiims-outages-cyberattack/\n",
      "https://techcrunch.com/2022/11/24/3-views-heres-what-our-2022-startup-theses-got-wrong/\n",
      "https://techcrunch.com/author/natasha-mascarenhas/\n",
      "https://techcrunch.com/author/\n",
      "https://techcrunch.com/author/anna-heim/\n",
      "https://techcrunch.com/2022/11/24/3-views-heres-what-our-2022-startup-theses-got-wrong/\n",
      "https://techcrunch.com/2022/11/24/netflix-is-working-on-brand-new-aaa-pc-game-based-on-job-listings/\n",
      "https://techcrunch.com/author/romain-dillet/\n",
      "https://techcrunch.com/2022/11/24/netflix-is-working-on-brand-new-aaa-pc-game-based-on-job-listings/\n",
      "https://techcrunch.com/2022/11/24/uk-online-safety-bill-css-e2ee/\n",
      "https://techcrunch.com/author/natasha-lomas/\n",
      "https://techcrunch.com/2022/11/24/uk-online-safety-bill-css-e2ee/\n",
      "https://techcrunch.com/2022/11/24/ispoof-seized/\n",
      "https://techcrunch.com/author/carly-page/\n",
      "https://techcrunch.com/2022/11/24/ispoof-seized/\n",
      "https://techcrunch.com/2022/11/24/linkedins-rolling-out-a-new-feature-that-lets-you-schedule-posts-for-later/\n",
      "https://techcrunch.com/author/paul-sawers/\n",
      "https://techcrunch.com/2022/11/24/linkedins-rolling-out-a-new-feature-that-lets-you-schedule-posts-for-later/\n",
      "https://techcrunch.com/page/2/\n"
     ]
    }
   ],
   "source": [
    "r = requests.get('https://techcrunch.com/')\n",
    " \n",
    "# Parsing the HTML\n",
    "soup = BeautifulSoup(r.content, 'html.parser')\n",
    " \n",
    "# find all the anchor tags with \"href\"\n",
    "list = []\n",
    "for link in soup.find_all('a'):\n",
    "    print(link.get('href'))\n",
    "    list.append(link.get('href'))"
   ]
  },
  {
   "cell_type": "code",
   "execution_count": 12,
   "id": "30844ab1",
   "metadata": {},
   "outputs": [
    {
     "data": {
      "text/plain": [
       "['https://techcrunch.com/2022/11/25/elon-musk-says-twitters-new-multicoloured-verification-will-launch-next-week/',\n",
       " 'https://techcrunch.com/author/ivan-mehta/',\n",
       " 'https://techcrunch.com/2022/11/25/elon-musk-says-twitters-new-multicoloured-verification-will-launch-next-week/',\n",
       " 'https://techcrunch.com/2022/11/24/automating-the-income-gap/',\n",
       " 'https://techcrunch.com/author/brian-heater/',\n",
       " '/',\n",
       " 'https://techcrunch.com/2022/11/24/3-views-heres-what-our-2022-startup-theses-got-wrong/',\n",
       " 'https://techcrunch.com/author/natasha-mascarenhas/',\n",
       " 'https://techcrunch.com/author/',\n",
       " 'https://techcrunch.com/author/anna-heim/',\n",
       " 'https://techcrunch.com/2022/11/24/elon-musk-twitter-layoffs-eu-dsa-vlop-warning/',\n",
       " 'https://techcrunch.com/author/natasha-lomas/',\n",
       " 'https://techcrunch.com/2022/11/24/wework-chinas-former-tech-head-launches-on-demand-work-pods/',\n",
       " 'https://techcrunch.com/author/rita-liao/',\n",
       " 'https://techcrunch.com/2022/11/25/how-to-run-data-on-kubernetes-6-starting-principles/',\n",
       " 'https://techcrunch.com/author/',\n",
       " 'https://techcrunch.com/2022/11/25/how-to-run-data-on-kubernetes-6-starting-principles/',\n",
       " 'https://techcrunch.com/2022/11/25/thanksgiving-online-sales-figures/',\n",
       " 'https://techcrunch.com/author/ingrid-lunden/',\n",
       " 'https://techcrunch.com/2022/11/25/thanksgiving-online-sales-figures/',\n",
       " 'https://techcrunch.com/2022/11/25/proton-mail-will-soon-be-more-like-gmail-with-email-categorization-message-scheduling-and-more/',\n",
       " 'https://techcrunch.com/author/paul-sawers/',\n",
       " 'https://techcrunch.com/2022/11/25/proton-mail-will-soon-be-more-like-gmail-with-email-categorization-message-scheduling-and-more/',\n",
       " 'https://techcrunch.com/2022/11/25/deepfake-porn-revenge-porn-uk-law-change/',\n",
       " 'https://techcrunch.com/author/natasha-lomas/',\n",
       " 'https://techcrunch.com/2022/11/25/deepfake-porn-revenge-porn-uk-law-change/',\n",
       " 'https://techcrunch.com/2022/11/25/elon-musk-says-twitters-new-multicoloured-verification-will-launch-next-week/',\n",
       " 'https://techcrunch.com/author/ivan-mehta/',\n",
       " 'https://techcrunch.com/2022/11/25/elon-musk-says-twitters-new-multicoloured-verification-will-launch-next-week/',\n",
       " 'https://techcrunch.com/2022/11/25/a-new-wave-of-solo-gp-vcs-is-coming-to-europe-and-hypernova-hopes-to-power-it/',\n",
       " 'https://techcrunch.com/author/mike-butcher/',\n",
       " 'https://techcrunch.com/2022/11/25/a-new-wave-of-solo-gp-vcs-is-coming-to-europe-and-hypernova-hopes-to-power-it/',\n",
       " 'https://techcrunch.com/2022/11/25/revio-allows-african-businesses-to-connect-to-multiple-payment-methods-and-reduce-payment-failures/',\n",
       " 'https://techcrunch.com/author/tage-kene-okafor/',\n",
       " 'https://techcrunch.com/2022/11/25/revio-allows-african-businesses-to-connect-to-multiple-payment-methods-and-reduce-payment-failures/',\n",
       " 'https://techcrunch.com/2022/11/24/wework-chinas-former-tech-head-launches-on-demand-work-pods/',\n",
       " 'https://techcrunch.com/author/rita-liao/',\n",
       " 'https://techcrunch.com/2022/11/24/wework-chinas-former-tech-head-launches-on-demand-work-pods/',\n",
       " 'https://techcrunch.com/2022/11/24/musk-says-twitter-will-offer-amnesty-to-suspended-accounts/',\n",
       " 'https://techcrunch.com/author/rebecca-bellan/',\n",
       " 'https://techcrunch.com/2022/11/24/musk-says-twitter-will-offer-amnesty-to-suspended-accounts/',\n",
       " 'https://techcrunch.com/2022/11/24/elon-musk-twitter-layoffs-eu-dsa-vlop-warning/',\n",
       " 'https://techcrunch.com/author/natasha-lomas/',\n",
       " 'https://techcrunch.com/2022/11/24/elon-musk-twitter-layoffs-eu-dsa-vlop-warning/',\n",
       " 'https://techcrunch.com/2022/11/24/stellantis-to-restructure-european-dealer-network-in-july-2023/',\n",
       " 'https://techcrunch.com/author/rebecca-bellan/',\n",
       " 'https://techcrunch.com/2022/11/24/stellantis-to-restructure-european-dealer-network-in-july-2023/',\n",
       " 'https://techcrunch.com/2022/11/24/bessemer-playground-root-and-seraphim-vcs-will-judge-the-tc-sessions-space-pitch-off/',\n",
       " 'https://techcrunch.com/author/lauren-simonds-2/',\n",
       " 'https://techcrunch.com/2022/11/24/bessemer-playground-root-and-seraphim-vcs-will-judge-the-tc-sessions-space-pitch-off/',\n",
       " 'https://techcrunch.com/2022/11/24/can-ftxs-bankruptcy-bring-order-and-justice-to-its-users/',\n",
       " 'https://techcrunch.com/author/jacquelyn-melinek/',\n",
       " 'https://techcrunch.com/2022/11/24/can-ftxs-bankruptcy-bring-order-and-justice-to-its-users/',\n",
       " 'https://techcrunch.com/2022/11/24/automating-the-income-gap/',\n",
       " 'https://techcrunch.com/author/brian-heater/',\n",
       " 'https://techcrunch.com/2022/11/24/automating-the-income-gap/',\n",
       " 'https://techcrunch.com/2022/11/24/india-aiims-outages-cyberattack/',\n",
       " 'https://techcrunch.com/author/jagmeet-singh/',\n",
       " 'https://techcrunch.com/2022/11/24/india-aiims-outages-cyberattack/',\n",
       " 'https://techcrunch.com/2022/11/24/3-views-heres-what-our-2022-startup-theses-got-wrong/',\n",
       " 'https://techcrunch.com/author/natasha-mascarenhas/',\n",
       " 'https://techcrunch.com/author/',\n",
       " 'https://techcrunch.com/author/anna-heim/',\n",
       " 'https://techcrunch.com/2022/11/24/3-views-heres-what-our-2022-startup-theses-got-wrong/',\n",
       " 'https://techcrunch.com/2022/11/24/netflix-is-working-on-brand-new-aaa-pc-game-based-on-job-listings/',\n",
       " 'https://techcrunch.com/author/romain-dillet/',\n",
       " 'https://techcrunch.com/2022/11/24/netflix-is-working-on-brand-new-aaa-pc-game-based-on-job-listings/',\n",
       " 'https://techcrunch.com/2022/11/24/uk-online-safety-bill-css-e2ee/',\n",
       " 'https://techcrunch.com/author/natasha-lomas/',\n",
       " 'https://techcrunch.com/2022/11/24/uk-online-safety-bill-css-e2ee/',\n",
       " 'https://techcrunch.com/2022/11/24/ispoof-seized/',\n",
       " 'https://techcrunch.com/author/carly-page/',\n",
       " 'https://techcrunch.com/2022/11/24/ispoof-seized/',\n",
       " 'https://techcrunch.com/2022/11/24/linkedins-rolling-out-a-new-feature-that-lets-you-schedule-posts-for-later/',\n",
       " 'https://techcrunch.com/author/paul-sawers/',\n",
       " 'https://techcrunch.com/2022/11/24/linkedins-rolling-out-a-new-feature-that-lets-you-schedule-posts-for-later/',\n",
       " 'https://techcrunch.com/page/2/']"
      ]
     },
     "execution_count": 12,
     "metadata": {},
     "output_type": "execute_result"
    }
   ],
   "source": [
    "list"
   ]
  },
  {
   "cell_type": "markdown",
   "id": "232dab3f",
   "metadata": {},
   "source": [
    "We can take any of the Blog Article link from the above list to call a function."
   ]
  },
  {
   "cell_type": "markdown",
   "id": "cd528cc6",
   "metadata": {},
   "source": [
    "### Calling the function by using any of the above link"
   ]
  },
  {
   "cell_type": "code",
   "execution_count": null,
   "id": "0de2f0cc",
   "metadata": {},
   "outputs": [],
   "source": [
    "Summary('https://techcrunch.com/2022/11/25/elon-musk-says-twitters-new-multicoloured-verification-will-launch-next-week/')"
   ]
  },
  {
   "cell_type": "code",
   "execution_count": 13,
   "id": "ba5f737f",
   "metadata": {},
   "outputs": [
    {
     "data": {
      "text/plain": [
       "'Last week he tweeted that Musk should stop selling shares and should take advantage of the “right timing” to buy back shares “before Q4.” Musk responded to the tweet saying it was “up to the Tesla board.” In October, Koguan called on Tesla to buy back at least $5 billion worth of stock, and in the past has argued for up to $15 billion worth of buybacks, saying Tesla should use its free cashflow to fund the buyback.Koguan has said Tesla can still invest in FSD, its Optimus bot and new gigafactories while also buying back “undervalued stocks.”Musk and certain members of Tesla’s board are currently in court over the CEO’s $56 billion pay package after a Tesla shareholder accused Musk of being a “part-time CEO.” Drops in Tesla shares also followed massive stock sales by Musk who needed liquid cash to finance the $44 billion Twitter deal.In September, drivers filed suit against the company for falsely advertising the autonomous capabilities of its tech.Merz and other investors have also argued a stock buyback would be a show of confidence in Tesla’s future results and would return wealth to shareholders.Finally, Tesla has gotten plenty of bad press this year around its advanced driver assistance systems Autopilot and “full self-driving,” or FSD, which have been tied to some fatal crashes in the worst case and in the best case have simply not performed as expected.'"
      ]
     },
     "execution_count": 13,
     "metadata": {},
     "output_type": "execute_result"
    }
   ],
   "source": [
    "Summary('https://techcrunch.com/2022/11/23/what-it-would-mean-for-tesla-to-buy-back-shares/')"
   ]
  },
  {
   "cell_type": "markdown",
   "id": "3b6285a4",
   "metadata": {},
   "source": [
    "As you can see, by passing the link as an argument we are getting hybrid summary of the given article. "
   ]
  },
  {
   "cell_type": "markdown",
   "id": "2e94117a",
   "metadata": {},
   "source": [
    "NOTE - ABOVE FUNCTION IS ONLY USED FOR TECHCRUNCH BLOG ARTICLES."
   ]
  },
  {
   "cell_type": "code",
   "execution_count": null,
   "id": "06540c88",
   "metadata": {},
   "outputs": [],
   "source": []
  }
 ],
 "metadata": {
  "kernelspec": {
   "display_name": "Python 3 (ipykernel)",
   "language": "python",
   "name": "python3"
  },
  "language_info": {
   "codemirror_mode": {
    "name": "ipython",
    "version": 3
   },
   "file_extension": ".py",
   "mimetype": "text/x-python",
   "name": "python",
   "nbconvert_exporter": "python",
   "pygments_lexer": "ipython3",
   "version": "3.9.9"
  }
 },
 "nbformat": 4,
 "nbformat_minor": 5
}
