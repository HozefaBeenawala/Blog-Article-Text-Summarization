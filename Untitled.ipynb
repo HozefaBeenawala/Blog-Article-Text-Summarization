{
 "cells": [
  {
   "cell_type": "code",
   "execution_count": null,
   "id": "dc8b45f7",
   "metadata": {},
   "outputs": [],
   "source": [
    "import requests\n",
    " \n",
    "# Making a GET request\n",
    "r = requests.get('https://techcrunch.com/2022/11/23/what-it-would-mean-for-tesla-to-buy-back-shares/')\n",
    " \n",
    "# check status code for response received\n",
    "# success code - 200\n",
    "print(r)\n",
    " \n",
    "# print content of request\n",
    "print(r.content)\n",
    "\n"
   ]
  },
  {
   "cell_type": "code",
   "execution_count": null,
   "id": "b0bb9f9b",
   "metadata": {},
   "outputs": [],
   "source": [
    "# print request object\n",
    "print(r.url)\n",
    "   \n",
    "# print status code\n",
    "print(r.status_code)"
   ]
  },
  {
   "cell_type": "code",
   "execution_count": null,
   "id": "a608406c",
   "metadata": {},
   "outputs": [],
   "source": [
    "from bs4 import BeautifulSoup\n",
    " \n",
    " \n",
    "# Making a GET request\n",
    "r = requests.get('https://techcrunch.com/2022/11/23/what-it-would-mean-for-tesla-to-buy-back-shares/')\n",
    " \n",
    "# check status code for response received\n",
    "# success code - 200\n",
    "print(r)\n",
    " \n",
    "# Parsing the HTML\n",
    "soup = BeautifulSoup(r.content, 'html.parser')\n",
    "print(soup.prettify())"
   ]
  },
  {
   "cell_type": "code",
   "execution_count": null,
   "id": "b4f7bdcd",
   "metadata": {},
   "outputs": [],
   "source": [
    "# Getting the title tag\n",
    "print(soup.title)\n",
    " \n",
    "# Getting the name of the tag\n",
    "print(soup.title.name)\n",
    " \n",
    "# Getting the name of parent tag\n",
    "print(soup.title.parent.name)"
   ]
  },
  {
   "cell_type": "code",
   "execution_count": null,
   "id": "fd4b2570",
   "metadata": {},
   "outputs": [],
   "source": [
    "# Getting the Article\n",
    "s = soup.find('div', class_='article-content')\n",
    "content = s.find_all('p')\n",
    " \n",
    "print(content)"
   ]
  },
  {
   "cell_type": "code",
   "execution_count": null,
   "id": "6a38ba21",
   "metadata": {},
   "outputs": [],
   "source": [
    "# Removing tags from the content of the Article\n",
    "print(soup.title.text)\n",
    "lines = s.find_all('p')\n",
    "for line in lines:\n",
    "    print(line.text)"
   ]
  },
  {
   "cell_type": "code",
   "execution_count": 1,
   "id": "2d8f7adf",
   "metadata": {},
   "outputs": [
    {
     "name": "stderr",
     "output_type": "stream",
     "text": [
      "C:\\Users\\Administrator\\AppData\\Local\\Programs\\Python\\Python39\\lib\\site-packages\\requests\\__init__.py:102: RequestsDependencyWarning: urllib3 (1.26.8) or chardet (5.0.0)/charset_normalizer (2.0.11) doesn't match a supported version!\n",
      "  warnings.warn(\"urllib3 ({}) or chardet ({})/charset_normalizer ({}) doesn't match a supported \"\n"
     ]
    },
    {
     "name": "stdout",
     "output_type": "stream",
     "text": [
      "What it would mean for Tesla to buy back shares • TechCrunch\n",
      "Tesla investors are begging CEO Elon Musk and the board of Tesla to consider buying back shares as the company’s stock price slumps to a two-year low. Tesla stock was trading at $183.20 after hours on Wednesday, and its market capitalization has plunged by almost $700 billion since its peak a year ago.\n",
      "Musk said during Tesla’s Q3 earnings call that the company is likely to do a “meaningful buyback” next year, possibly between $5 billion and $10 billion. Last week, he said it would be “up to the Tesla board” to decide.\n",
      "Buying back shares from the marketplace would reduce the number of outstanding shares available, which increases the ownership stake of current shareholders. That’s because reduced supply of shares often causes a price increase. Tesla bull and influencer Alexandra Merz recently put up a petition on Change.org to advocate for a swift buyback before the end of the year. Merz said this would allow Tesla to “benefit from a currently very unvalued stock price” and avoid the 1% excuse tax that any buybacks exceeding $1 million will be subject to by January 1, 2023.\n",
      "Merz and other investors have also argued a stock buyback would be a show of confidence in Tesla’s future results and would return wealth to shareholders.\n",
      "“I’m a huge Tesla fan and past stock holder but in order to preserve my capital I’ve been forced to go to the dark side,” commented one petitioner, of which there are currently 5,807. “I’ve recently began to short the stock and have earned back roughly half my loses. I believe in Tesla’s long term growth but I need to see some action from the board before going long again. A nice buy back would show confidence from the board that Tesla is still a good investment.”\n",
      "Tesla’s stock has taken a hit lately for a variety of reasons, including decreasing investor confidence in Musk to run the company effectively. Many have complained that Musk is, at best, distracted by his recent purchase and takeover of Twitter, a social media platform on which the executive has lately been airing his politics even more than usual. Musk and certain members of Tesla’s board are currently in court over the CEO’s $56 billion pay package after a Tesla shareholder accused Musk of being a “part-time CEO.”\n",
      "Drops in Tesla shares also followed massive stock sales by Musk who needed liquid cash to finance the $44 billion Twitter deal.\n",
      "Some analysts, like Adam Jones at Morgan Stanley, worry the Twitter fiasco and Musk’s rampant tweeting could hurt consumer demand for Tesla, as well as commercial deals and government relations.\n",
      "Musk’s involvement in Twitter isn’t the only reason for plunging shares. While Tesla still remains the market leader of electric vehicles in the U.S., the company is rapidly losing market share to other automakers as new models come online. In the third quarter, Tesla held 64% market share in EVs, which is down from 66% in Q2 and 75% in Q1. Ford, GM and Hyundai brands are quickly catching up as they scale production of popular EV models like the Mustang Mach-E, the Chevy Bolt and the Ioniq 5.\n",
      "Tesla is also losing ground to Chinese EV makers like BYD and Wuling Motors in China, where the automaker recently slashed prices to lure buyers, receiving reportedly lackluster enthusiasm. On top of that, Beijing is now on lockdown and more restrictions have been imposed in China as coronavirus cases surge. This might not only affect Tesla’s ability to run its gigafactory in Shanghai, but further restrictions will affect China’s weakened economy further and reduce demand for luxury products like Teslas.\n",
      "Then there are the back-to-back recalls that Tesla issued over the weekend — over 350,000 vehicles from U.S. customers with software glitches that disable tail lights or activate air bags during minor collisions in some cars. That’s on top of the 17 other recalls this year.\n",
      "Finally, Tesla has gotten plenty of bad press this year around its advanced driver assistance systems Autopilot and “full self-driving,” or FSD, which have been tied to some fatal crashes in the worst case and in the best case have simply not performed as expected. In September, drivers filed suit against the company for falsely advertising the autonomous capabilities of its tech.\n",
      "All of the above, coupled with a down market, have resulted in Tesla’s market cap going from $1.2 trillion last November to $574 billion as of Wednesday’s close.\n",
      "Billionaire Leo Koguan, who says he’s the third largest individual shareholder in Tesla, has been advocating for a buyback for months. Last week he tweeted that Musk should stop selling shares and should take advantage of the “right timing” to buy back shares “before Q4.” Musk responded to the tweet saying it was “up to the Tesla board.”\n",
      "In October, Koguan called on Tesla to buy back at least $5 billion worth of stock, and in the past has argued for up to $15 billion worth of buybacks, saying Tesla should use its free cashflow to fund the buyback.\n",
      "As of the third quarter, Tesla has a free cash flow of $3.3 billion.\n",
      "Koguan has said Tesla can still invest in FSD, its Optimus bot and new gigafactories while also buying back “undervalued stocks.”\n"
     ]
    }
   ],
   "source": [
    "import requests\n",
    "from bs4 import BeautifulSoup\n",
    "r = requests.get('https://techcrunch.com/2022/11/23/what-it-would-mean-for-tesla-to-buy-back-shares/')\n",
    "soup = BeautifulSoup(r.content, 'html.parser')\n",
    "s = soup.find('div', class_='article-content')\n",
    "print(soup.title.text)\n",
    "lines = s.find_all('p')\n",
    "for line in lines:\n",
    "    print(line.text)"
   ]
  },
  {
   "cell_type": "code",
   "execution_count": 11,
   "id": "7ce0c956",
   "metadata": {},
   "outputs": [
    {
     "name": "stdout",
     "output_type": "stream",
     "text": [
      "What it would mean for Tesla to buy back shares • TechCrunch\n",
      "Tesla investors are begging CEO Elon Musk and the board of Tesla to consider buying back shares as the company’s stock price slumps to a two-year low. Tesla stock was trading at $183.20 after hours on Wednesday, and its market capitalization has plunged by almost $700 billion since its peak a year ago.\n",
      "Musk said during Tesla’s Q3 earnings call that the company is likely to do a “meaningful buyback” next year, possibly between $5 billion and $10 billion. Last week, he said it would be “up to the Tesla board” to decide.\n",
      "Buying back shares from the marketplace would reduce the number of outstanding shares available, which increases the ownership stake of current shareholders. That’s because reduced supply of shares often causes a price increase. Tesla bull and influencer Alexandra Merz recently put up a petition on Change.org to advocate for a swift buyback before the end of the year. Merz said this would allow Tesla to “benefit from a currently very unvalued stock price” and avoid the 1% excuse tax that any buybacks exceeding $1 million will be subject to by January 1, 2023.\n",
      "Merz and other investors have also argued a stock buyback would be a show of confidence in Tesla’s future results and would return wealth to shareholders.\n",
      "“I’m a huge Tesla fan and past stock holder but in order to preserve my capital I’ve been forced to go to the dark side,” commented one petitioner, of which there are currently 5,807. “I’ve recently began to short the stock and have earned back roughly half my loses. I believe in Tesla’s long term growth but I need to see some action from the board before going long again. A nice buy back would show confidence from the board that Tesla is still a good investment.”\n",
      "Tesla’s stock has taken a hit lately for a variety of reasons, including decreasing investor confidence in Musk to run the company effectively. Many have complained that Musk is, at best, distracted by his recent purchase and takeover of Twitter, a social media platform on which the executive has lately been airing his politics even more than usual. Musk and certain members of Tesla’s board are currently in court over the CEO’s $56 billion pay package after a Tesla shareholder accused Musk of being a “part-time CEO.”\n",
      "Drops in Tesla shares also followed massive stock sales by Musk who needed liquid cash to finance the $44 billion Twitter deal.\n",
      "Some analysts, like Adam Jones at Morgan Stanley, worry the Twitter fiasco and Musk’s rampant tweeting could hurt consumer demand for Tesla, as well as commercial deals and government relations.\n",
      "Musk’s involvement in Twitter isn’t the only reason for plunging shares. While Tesla still remains the market leader of electric vehicles in the U.S., the company is rapidly losing market share to other automakers as new models come online. In the third quarter, Tesla held 64% market share in EVs, which is down from 66% in Q2 and 75% in Q1. Ford, GM and Hyundai brands are quickly catching up as they scale production of popular EV models like the Mustang Mach-E, the Chevy Bolt and the Ioniq 5.\n",
      "Tesla is also losing ground to Chinese EV makers like BYD and Wuling Motors in China, where the automaker recently slashed prices to lure buyers, receiving reportedly lackluster enthusiasm. On top of that, Beijing is now on lockdown and more restrictions have been imposed in China as coronavirus cases surge. This might not only affect Tesla’s ability to run its gigafactory in Shanghai, but further restrictions will affect China’s weakened economy further and reduce demand for luxury products like Teslas.\n",
      "Then there are the back-to-back recalls that Tesla issued over the weekend — over 350,000 vehicles from U.S. customers with software glitches that disable tail lights or activate air bags during minor collisions in some cars. That’s on top of the 17 other recalls this year.\n",
      "Finally, Tesla has gotten plenty of bad press this year around its advanced driver assistance systems Autopilot and “full self-driving,” or FSD, which have been tied to some fatal crashes in the worst case and in the best case have simply not performed as expected. In September, drivers filed suit against the company for falsely advertising the autonomous capabilities of its tech.\n",
      "All of the above, coupled with a down market, have resulted in Tesla’s market cap going from $1.2 trillion last November to $574 billion as of Wednesday’s close.\n",
      "Billionaire Leo Koguan, who says he’s the third largest individual shareholder in Tesla, has been advocating for a buyback for months. Last week he tweeted that Musk should stop selling shares and should take advantage of the “right timing” to buy back shares “before Q4.” Musk responded to the tweet saying it was “up to the Tesla board.”\n",
      "In October, Koguan called on Tesla to buy back at least $5 billion worth of stock, and in the past has argued for up to $15 billion worth of buybacks, saying Tesla should use its free cashflow to fund the buyback.\n",
      "As of the third quarter, Tesla has a free cash flow of $3.3 billion.\n",
      "Koguan has said Tesla can still invest in FSD, its Optimus bot and new gigafactories while also buying back “undervalued stocks.”\n"
     ]
    },
    {
     "data": {
      "text/plain": [
       "<function TextIOWrapper.close()>"
      ]
     },
     "execution_count": 11,
     "metadata": {},
     "output_type": "execute_result"
    }
   ],
   "source": [
    "file = open('Article.txt','w',encoding='utf-8')\n",
    "soup_title = str(soup.title.text)\n",
    "print(soup_title)\n",
    "file.write(soup_title)\n",
    "file.write(\"\\n\")\n",
    "for line in lines:\n",
    "    soup_lines = str(line.text)\n",
    "    print(soup_lines)\n",
    "    file.write(soup_lines)\n",
    "    file.write(\"\\n\")\n",
    "file.flush()\n",
    "file.close"
   ]
  },
  {
   "cell_type": "code",
   "execution_count": 3,
   "id": "4e61f20a",
   "metadata": {},
   "outputs": [
    {
     "name": "stdout",
     "output_type": "stream",
     "text": [
      "What it would mean for Tesla to buy back shares • TechCrunch\n",
      "Tesla investors are begging CEO Elon Musk and the board of Tesla to consider buying back shares as the company’s stock price slumps to a two-year low. Tesla stock was trading at $183.20 after hours on Wednesday, and its market capitalization has plunged by almost $700 billion since its peak a year ago.\n",
      "Musk said during Tesla’s Q3 earnings call that the company is likely to do a “meaningful buyback” next year, possibly between $5 billion and $10 billion. Last week, he said it would be “up to the Tesla board” to decide.\n",
      "Buying back shares from the marketplace would reduce the number of outstanding shares available, which increases the ownership stake of current shareholders. That’s because reduced supply of shares often causes a price increase. Tesla bull and influencer Alexandra Merz recently put up a petition on Change.org to advocate for a swift buyback before the end of the year. Merz said this would allow Tesla to “benefit from a currently very unvalued stock price” and avoid the 1% excuse tax that any buybacks exceeding $1 million will be subject to by January 1, 2023.\n",
      "Merz and other investors have also argued a stock buyback would be a show of confidence in Tesla’s future results and would return wealth to shareholders.\n",
      "“I’m a huge Tesla fan and past stock holder but in order to preserve my capital I’ve been forced to go to the dark side,” commented one petitioner, of which there are currently 5,807. “I’ve recently began to short the stock and have earned back roughly half my loses. I believe in Tesla’s long term growth but I need to see some action from the board before going long again. A nice buy back would show confidence from the board that Tesla is still a good investment.”\n",
      "Tesla’s stock has taken a hit lately for a variety of reasons, including decreasing investor confidence in Musk to run the company effectively. Many have complained that Musk is, at best, distracted by his recent purchase and takeover of Twitter, a social media platform on which the executive has lately been airing his politics even more than usual. Musk and certain members of Tesla’s board are currently in court over the CEO’s $56 billion pay package after a Tesla shareholder accused Musk of being a “part-time CEO.”\n",
      "Drops in Tesla shares also followed massive stock sales by Musk who needed liquid cash to finance the $44 billion Twitter deal.\n",
      "Some analysts, like Adam Jones at Morgan Stanley, worry the Twitter fiasco and Musk’s rampant tweeting could hurt consumer demand for Tesla, as well as commercial deals and government relations.\n",
      "Musk’s involvement in Twitter isn’t the only reason for plunging shares. While Tesla still remains the market leader of electric vehicles in the U.S., the company is rapidly losing market share to other automakers as new models come online. In the third quarter, Tesla held 64% market share in EVs, which is down from 66% in Q2 and 75% in Q1. Ford, GM and Hyundai brands are quickly catching up as they scale production of popular EV models like the Mustang Mach-E, the Chevy Bolt and the Ioniq 5.\n",
      "Tesla is also losing ground to Chinese EV makers like BYD and Wuling Motors in China, where the automaker recently slashed prices to lure buyers, receiving reportedly lackluster enthusiasm. On top of that, Beijing is now on lockdown and more restrictions have been imposed in China as coronavirus cases surge. This might not only affect Tesla’s ability to run its gigafactory in Shanghai, but further restrictions will affect China’s weakened economy further and reduce demand for luxury products like Teslas.\n",
      "Then there are the back-to-back recalls that Tesla issued over the weekend — over 350,000 vehicles from U.S. customers with software glitches that disable tail lights or activate air bags during minor collisions in some cars. That’s on top of the 17 other recalls this year.\n",
      "Finally, Tesla has gotten plenty of bad press this year around its advanced driver assistance systems Autopilot and “full self-driving,” or FSD, which have been tied to some fatal crashes in the worst case and in the best case have simply not performed as expected. In September, drivers filed suit against the company for falsely advertising the autonomous capabilities of its tech.\n",
      "All of the above, coupled with a down market, have resulted in Tesla’s market cap going from $1.2 trillion last November to $574 billion as of Wednesday’s close.\n",
      "Billionaire Leo Koguan, who says he’s the third largest individual shareholder in Tesla, has been advocating for a buyback for months. Last week he tweeted that Musk should stop selling shares and should take advantage of the “right timing” to buy back shares “before Q4.” Musk responded to the tweet saying it was “up to the Tesla board.”\n",
      "In October, Koguan called on Tesla to buy back at least $5 billion worth of stock, and in the past has argued for up to $15 billion worth of buybacks, saying Tesla should use its free cashflow to fund the buyback.\n",
      "As of the third quarter, Tesla has a free cash flow of $3.3 billion.\n",
      "Koguan has said Tesla can still invest in FSD, its Optimus bot and new gigafactories while also buying back “undervalued stocks.”\n",
      "\n"
     ]
    }
   ],
   "source": [
    "f = open(\"Article.txt\", \"r\", encoding='utf-8' )\n",
    "print(f.read())"
   ]
  },
  {
   "cell_type": "code",
   "execution_count": 4,
   "id": "059f9603",
   "metadata": {},
   "outputs": [
    {
     "name": "stdout",
     "output_type": "stream",
     "text": [
      "What it would mean for Tesla to buy back shares • TechCrunch\n",
      "Tesla investors are begging CEO Elon Musk and the board of Tesla to consider buying back shares as the company’s stock price slumps to a two-year low. Tesla stock was trading at $183.20 after hours on Wednesday, and its market capitalization has plunged by almost $700 billion since its peak a year ago.\n",
      "Musk said during Tesla’s Q3 earnings call that the company is likely to do a “meaningful buyback” next year, possibly between $5 billion and $10 billion. Last week, he said it would be “up to the Tesla board” to decide.\n",
      "Buying back shares from the marketplace would reduce the number of outstanding shares available, which increases the ownership stake of current shareholders. That’s because reduced supply of shares often causes a price increase. Tesla bull and influencer Alexandra Merz recently put up a petition on Change.org to advocate for a swift buyback before the end of the year. Merz said this would allow Tesla to “benefit from a currently very unvalued stock price” and avoid the 1% excuse tax that any buybacks exceeding $1 million will be subject to by January 1, 2023.\n",
      "Merz and other investors have also argued a stock buyback would be a show of confidence in Tesla’s future results and would return wealth to shareholders.\n",
      "“I’m a huge Tesla fan and past stock holder but in order to preserve my capital I’ve been forced to go to the dark side,” commented one petitioner, of which there are currently 5,807. “I’ve recently began to short the stock and have earned back roughly half my loses. I believe in Tesla’s long term growth but I need to see some action from the board before going long again. A nice buy back would show confidence from the board that Tesla is still a good investment.”\n",
      "Tesla’s stock has taken a hit lately for a variety of reasons, including decreasing investor confidence in Musk to run the company effectively. Many have complained that Musk is, at best, distracted by his recent purchase and takeover of Twitter, a social media platform on which the executive has lately been airing his politics even more than usual. Musk and certain members of Tesla’s board are currently in court over the CEO’s $56 billion pay package after a Tesla shareholder accused Musk of being a “part-time CEO.”\n",
      "Drops in Tesla shares also followed massive stock sales by Musk who needed liquid cash to finance the $44 billion Twitter deal.\n",
      "Some analysts, like Adam Jones at Morgan Stanley, worry the Twitter fiasco and Musk’s rampant tweeting could hurt consumer demand for Tesla, as well as commercial deals and government relations.\n",
      "Musk’s involvement in Twitter isn’t the only reason for plunging shares. While Tesla still remains the market leader of electric vehicles in the U.S., the company is rapidly losing market share to other automakers as new models come online. In the third quarter, Tesla held 64% market share in EVs, which is down from 66% in Q2 and 75% in Q1. Ford, GM and Hyundai brands are quickly catching up as they scale production of popular EV models like the Mustang Mach-E, the Chevy Bolt and the Ioniq 5.\n",
      "Tesla is also losing ground to Chinese EV makers like BYD and Wuling Motors in China, where the automaker recently slashed prices to lure buyers, receiving reportedly lackluster enthusiasm. On top of that, Beijing is now on lockdown and more restrictions have been imposed in China as coronavirus cases surge. This might not only affect Tesla’s ability to run its gigafactory in Shanghai, but further restrictions will affect China’s weakened economy further and reduce demand for luxury products like Teslas.\n",
      "Then there are the back-to-back recalls that Tesla issued over the weekend — over 350,000 vehicles from U.S. customers with software glitches that disable tail lights or activate air bags during minor collisions in some cars. That’s on top of the 17 other recalls this year.\n",
      "Finally, Tesla has gotten plenty of bad press this year around its advanced driver assistance systems Autopilot and “full self-driving,” or FSD, which have been tied to some fatal crashes in the worst case and in the best case have simply not performed as expected. In September, drivers filed suit against the company for falsely advertising the autonomous capabilities of its tech.\n",
      "All of the above, coupled with a down market, have resulted in Tesla’s market cap going from $1.2 trillion last November to $574 billion as of Wednesday’s close.\n",
      "Billionaire Leo Koguan, who says he’s the third largest individual shareholder in Tesla, has been advocating for a buyback for months. Last week he tweeted that Musk should stop selling shares and should take advantage of the “right timing” to buy back shares “before Q4.” Musk responded to the tweet saying it was “up to the Tesla board.”\n",
      "In October, Koguan called on Tesla to buy back at least $5 billion worth of stock, and in the past has argued for up to $15 billion worth of buybacks, saying Tesla should use its free cashflow to fund the buyback.\n",
      "As of the third quarter, Tesla has a free cash flow of $3.3 billion.\n",
      "Koguan has said Tesla can still invest in FSD, its Optimus bot and new gigafactories while also buying back “undervalued stocks.”\n",
      "\n"
     ]
    }
   ],
   "source": [
    "with open(\"Article.txt\", \"r\", encoding='utf-8' ) as file: \n",
    "    line = file.read()\n",
    "    print(line)\n"
   ]
  },
  {
   "cell_type": "code",
   "execution_count": 5,
   "id": "a43076e9",
   "metadata": {},
   "outputs": [
    {
     "ename": "ModuleNotFoundError",
     "evalue": "No module named 'gensim.summarization'",
     "output_type": "error",
     "traceback": [
      "\u001b[1;31m---------------------------------------------------------------------------\u001b[0m",
      "\u001b[1;31mModuleNotFoundError\u001b[0m                       Traceback (most recent call last)",
      "Input \u001b[1;32mIn [5]\u001b[0m, in \u001b[0;36m<module>\u001b[1;34m\u001b[0m\n\u001b[1;32m----> 1\u001b[0m \u001b[38;5;28;01mfrom\u001b[39;00m \u001b[38;5;21;01mgensim\u001b[39;00m\u001b[38;5;21;01m.\u001b[39;00m\u001b[38;5;21;01msummarization\u001b[39;00m\u001b[38;5;21;01m.\u001b[39;00m\u001b[38;5;21;01msummarizer\u001b[39;00m \u001b[38;5;28;01mimport\u001b[39;00m summarize\n\u001b[0;32m      3\u001b[0m \u001b[38;5;66;03m# Summarize text using gensim\u001b[39;00m\n\u001b[0;32m      4\u001b[0m gen_summary\u001b[38;5;241m=\u001b[39msummarize(line)\n",
      "\u001b[1;31mModuleNotFoundError\u001b[0m: No module named 'gensim.summarization'"
     ]
    }
   ],
   "source": [
    "from gensim.summarization.summarizer import summarize\n",
    "\n",
    "# Summarize text using gensim\n",
    "gen_summary=summarize(line)\n",
    "print(gen_summary)"
   ]
  },
  {
   "cell_type": "code",
   "execution_count": 6,
   "id": "4f4b6e54",
   "metadata": {},
   "outputs": [
    {
     "name": "stdout",
     "output_type": "stream",
     "text": [
      "Musk and certain members of Tesla’s board are currently in court over the CEO’s $56 billion pay package after a Tesla shareholder accused Musk of being a “part-time CEO.” Drops in Tesla shares also followed massive stock sales by Musk who needed liquid cash to finance the $44 billion Twitter deal.Last week he tweeted that Musk should stop selling shares and should take advantage of the “right timing” to buy back shares “before Q4.” Musk responded to the tweet saying it was “up to the Tesla board.” In October, Koguan called on Tesla to buy back at least $5 billion worth of stock, and in the past has argued for up to $15 billion worth of buybacks, saying Tesla should use its free cashflow to fund the buyback.\n"
     ]
    }
   ],
   "source": [
    "# Load Packages\n",
    "from sumy.parsers.plaintext import PlaintextParser\n",
    "from sumy.nlp.tokenizers import Tokenizer\n",
    "\n",
    "# Creating text parser using tokenization\n",
    "parser = PlaintextParser.from_string(line,Tokenizer(\"english\"))\n",
    "\n",
    "from sumy.summarizers.text_rank import TextRankSummarizer\n",
    "\n",
    "# Summarize using sumy TextRank\n",
    "summarizer = TextRankSummarizer()\n",
    "summary_text =summarizer(parser.document,2)\n",
    "\n",
    "text_summary=\"\"\n",
    "for sentence in summary_text:\n",
    "    text_summary+=str(sentence)\n",
    "print(text_summary)"
   ]
  },
  {
   "cell_type": "code",
   "execution_count": 7,
   "id": "73bfb712",
   "metadata": {},
   "outputs": [
    {
     "name": "stdout",
     "output_type": "stream",
     "text": [
      "Merz and other investors have also argued a stock buyback would be a show of confidence in Tesla’s future results and would return wealth to shareholders.Musk and certain members of Tesla’s board are currently in court over the CEO’s $56 billion pay package after a Tesla shareholder accused Musk of being a “part-time CEO.” Drops in Tesla shares also followed massive stock sales by Musk who needed liquid cash to finance the $44 billion Twitter deal.\n"
     ]
    }
   ],
   "source": [
    "from sumy.summarizers.lex_rank import LexRankSummarizer\n",
    "summarizer_lex = LexRankSummarizer()\n",
    "\n",
    "# Summarize using sumy LexRank\n",
    "summary_lex= summarizer_lex(parser.document, 2)\n",
    "lex_summary=\"\"\n",
    "\n",
    "for sentence in summary_lex:\n",
    "    lex_summary+=str(sentence)  \n",
    "print(lex_summary)"
   ]
  },
  {
   "cell_type": "code",
   "execution_count": 8,
   "id": "f3cb1ef4",
   "metadata": {},
   "outputs": [
    {
     "name": "stdout",
     "output_type": "stream",
     "text": [
      "Finally, Tesla has gotten plenty of bad press this year around its advanced driver assistance systems Autopilot and “full self-driving,” or FSD, which have been tied to some fatal crashes in the worst case and in the best case have simply not performed as expected.Koguan has said Tesla can still invest in FSD, its Optimus bot and new gigafactories while also buying back “undervalued stocks.”\n"
     ]
    }
   ],
   "source": [
    "from sumy.summarizers.lsa import LsaSummarizer\n",
    "summarizer_lsa = LsaSummarizer()\n",
    "\n",
    "# Summarize using sumy LSA\n",
    "summary_lsa =summarizer_lsa(parser.document,2)\n",
    "\n",
    "lsa_summary=\"\"\n",
    "for sentence in summary_lsa:\n",
    "    lsa_summary+=str(sentence)\n",
    "\n",
    "print(lsa_summary)"
   ]
  },
  {
   "cell_type": "code",
   "execution_count": 9,
   "id": "a46f5bac",
   "metadata": {},
   "outputs": [
    {
     "name": "stdout",
     "output_type": "stream",
     "text": [
      "In September, drivers filed suit against the company for falsely advertising the autonomous capabilities of its tech.Last week he tweeted that Musk should stop selling shares and should take advantage of the “right timing” to buy back shares “before Q4.” Musk responded to the tweet saying it was “up to the Tesla board.” In October, Koguan called on Tesla to buy back at least $5 billion worth of stock, and in the past has argued for up to $15 billion worth of buybacks, saying Tesla should use its free cashflow to fund the buyback.\n"
     ]
    }
   ],
   "source": [
    "from sumy.summarizers.kl import KLSummarizer\n",
    "\n",
    "summarizer_kl = KLSummarizer()\n",
    "\n",
    "# Summarize using sumy KL Divergence\n",
    "summary_kl =summarizer_kl(parser.document,2)\n",
    "\n",
    "kl_summary=\"\"\n",
    "for sentence in summary_kl:\n",
    "    kl_summary+=str(sentence)  \n",
    "print(kl_summary)"
   ]
  },
  {
   "cell_type": "code",
   "execution_count": 10,
   "id": "6e8a1e1c",
   "metadata": {},
   "outputs": [
    {
     "name": "stdout",
     "output_type": "stream",
     "text": [
      "Musk and certain members of Tesla’s board are currently in court over the CEO’s $56 billion pay package after a Tesla shareholder accused Musk of being a “part-time CEO.” Drops in Tesla shares also followed massive stock sales by Musk who needed liquid cash to finance the $44 billion Twitter deal.Merz and other investors have also argued a stock buyback would be a show of confidence in Tesla’s future results and would return wealth to shareholders.Finally, Tesla has gotten plenty of bad press this year around its advanced driver assistance systems Autopilot and “full self-driving,” or FSD, which have been tied to some fatal crashes in the worst case and in the best case have simply not performed as expected.Last week he tweeted that Musk should stop selling shares and should take advantage of the “right timing” to buy back shares “before Q4.” Musk responded to the tweet saying it was “up to the Tesla board.” In October, Koguan called on Tesla to buy back at least $5 billion worth of stock, and in the past has argued for up to $15 billion worth of buybacks, saying Tesla should use its free cashflow to fund the buyback.In September, drivers filed suit against the company for falsely advertising the autonomous capabilities of its tech.Koguan has said Tesla can still invest in FSD, its Optimus bot and new gigafactories while also buying back “undervalued stocks.”\n"
     ]
    }
   ],
   "source": [
    "summary =  set(summary_kl).union(set(summary_lex)).union(set(summary_lsa)).union(set(summary_text))\n",
    "text_summary=\"\"\n",
    "for sentence in summary:\n",
    "    text_summary+=str(sentence)\n",
    "\n",
    "print(text_summary)"
   ]
  },
  {
   "cell_type": "code",
   "execution_count": null,
   "id": "308dc766",
   "metadata": {},
   "outputs": [],
   "source": []
  }
 ],
 "metadata": {
  "kernelspec": {
   "display_name": "Python 3 (ipykernel)",
   "language": "python",
   "name": "python3"
  },
  "language_info": {
   "codemirror_mode": {
    "name": "ipython",
    "version": 3
   },
   "file_extension": ".py",
   "mimetype": "text/x-python",
   "name": "python",
   "nbconvert_exporter": "python",
   "pygments_lexer": "ipython3",
   "version": "3.9.9"
  }
 },
 "nbformat": 4,
 "nbformat_minor": 5
}
